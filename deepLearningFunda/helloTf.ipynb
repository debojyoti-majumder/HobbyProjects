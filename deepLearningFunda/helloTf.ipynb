{
 "metadata": {
  "language_info": {
   "codemirror_mode": {
    "name": "ipython",
    "version": 3
   },
   "file_extension": ".py",
   "mimetype": "text/x-python",
   "name": "python",
   "nbconvert_exporter": "python",
   "pygments_lexer": "ipython3",
   "version": 3
  },
  "orig_nbformat": 2,
  "kernelspec": {
   "name": "python_defaultSpec_1596346697165",
   "display_name": "Python 3.7.0 64-bit"
  }
 },
 "nbformat": 4,
 "nbformat_minor": 2,
 "cells": [
  {
   "cell_type": "code",
   "execution_count": 1,
   "metadata": {
    "tags": []
   },
   "outputs": [
    {
     "output_type": "stream",
     "name": "stdout",
     "text": "WARNING:tensorflow:From C:\\Users\\deboj\\AppData\\Local\\Programs\\Python\\Python37\\lib\\site-packages\\tensorflow_core\\python\\compat\\v2_compat.py:65: disable_resource_variables (from tensorflow.python.ops.variable_scope) is deprecated and will be removed in a future version.\nInstructions for updating:\nnon-resource variables are not supported in the long term\n"
    }
   ],
   "source": [
    "import tensorflow.compat.v1 as tf\n",
    "tf.disable_v2_behavior()"
   ]
  },
  {
   "cell_type": "code",
   "execution_count": 2,
   "metadata": {},
   "outputs": [],
   "source": [
    "deep_constant = tf.constant(\"Deep Learning\")"
   ]
  },
  {
   "cell_type": "code",
   "execution_count": 3,
   "metadata": {},
   "outputs": [],
   "source": [
    "a = tf.constant(2)\n",
    "b = tf.constant(12)\n",
    "output_res = tf.multiply(a,b)"
   ]
  },
  {
   "cell_type": "code",
   "execution_count": 4,
   "metadata": {},
   "outputs": [],
   "source": [
    "session = tf.Session()"
   ]
  },
  {
   "cell_type": "code",
   "execution_count": 5,
   "metadata": {},
   "outputs": [
    {
     "output_type": "execute_result",
     "data": {
      "text/plain": "b'Deep Learning'"
     },
     "metadata": {},
     "execution_count": 5
    }
   ],
   "source": [
    "session.run(deep_constant)"
   ]
  },
  {
   "cell_type": "code",
   "execution_count": 6,
   "metadata": {},
   "outputs": [
    {
     "output_type": "execute_result",
     "data": {
      "text/plain": "24"
     },
     "metadata": {},
     "execution_count": 6
    }
   ],
   "source": [
    "session.run(output_res)"
   ]
  },
  {
   "cell_type": "code",
   "execution_count": 8,
   "metadata": {
    "tags": []
   },
   "outputs": [
    {
     "output_type": "stream",
     "name": "stdout",
     "text": "Tensor(\"input_layer:0\", shape=(?, 784), dtype=float32)\n"
    }
   ],
   "source": [
    "x = tf.placeholder(tf.float32, name=\"input_layer\", shape=[None, 784])\n",
    "print(x)"
   ]
  },
  {
   "cell_type": "code",
   "execution_count": 9,
   "metadata": {
    "tags": []
   },
   "outputs": [
    {
     "output_type": "stream",
     "name": "stdout",
     "text": "Tensor(\"random_uniform:0\", shape=(784, 10), dtype=float32)\n"
    }
   ],
   "source": [
    "#Param 1: Shape of the matrix\n",
    "#Param 2,3# Range\n",
    "random_weight = tf.random_uniform([784, 10], -1, 1)\n",
    "print(random_weight)"
   ]
  },
  {
   "cell_type": "code",
   "execution_count": 10,
   "metadata": {
    "tags": []
   },
   "outputs": [
    {
     "output_type": "stream",
     "name": "stdout",
     "text": "Tensor(\"zeros:0\", shape=(10,), dtype=float32)\n"
    }
   ],
   "source": [
    "bias_arr = tf.zeros([10])\n",
    "print(bias_arr)"
   ]
  },
  {
   "cell_type": "code",
   "execution_count": 11,
   "metadata": {
    "tags": []
   },
   "outputs": [
    {
     "output_type": "stream",
     "name": "stdout",
     "text": "Tensor(\"add:0\", shape=(?, 10), dtype=float32)\n"
    }
   ],
   "source": [
    "layer1_weight = tf.Variable(random_weight, name = \"layer1_W\")\n",
    "layer1_bias = tf.Variable(bias_arr, name = \"layer1_B\")\n",
    "\n",
    "basic_comp = tf.matmul(x, layer1_weight) + layer1_bias\n",
    "print(basic_comp)"
   ]
  },
  {
   "cell_type": "code",
   "execution_count": 12,
   "metadata": {
    "tags": []
   },
   "outputs": [
    {
     "output_type": "stream",
     "name": "stdout",
     "text": "WARNING:tensorflow:From C:\\Users\\deboj\\AppData\\Local\\Programs\\Python\\Python37\\lib\\site-packages\\tensorflow_core\\python\\util\\tf_should_use.py:198: initialize_all_variables (from tensorflow.python.ops.variables) is deprecated and will be removed after 2017-03-02.\nInstructions for updating:\nUse `tf.global_variables_initializer` instead.\n"
    }
   ],
   "source": [
    "init_op = tf.initialize_all_variables()\n",
    "session.run(init_op)"
   ]
  },
  {
   "cell_type": "code",
   "execution_count": 13,
   "metadata": {},
   "outputs": [],
   "source": [
    "batch_size = 10"
   ]
  },
  {
   "cell_type": "markdown",
   "metadata": {},
   "source": [
    "This where I am as of now adding in some dummy random data. This is where I am suppose to take data from a real data set. As long as that data is from a sampled returns me a numpy array I should be good to go."
   ]
  },
  {
   "cell_type": "code",
   "execution_count": 14,
   "metadata": {
    "tags": []
   },
   "outputs": [
    {
     "output_type": "stream",
     "name": "stdout",
     "text": "(10, 784)\n"
    },
    {
     "output_type": "execute_result",
     "data": {
      "text/plain": "array([[0.33603981, 0.59410065, 0.76540922, ..., 0.62465152, 0.57153473,\n        0.168527  ],\n       [0.30342136, 0.20913977, 0.00540178, ..., 0.9455395 , 0.92353101,\n        0.84118146],\n       [0.4898639 , 0.63522286, 0.63371968, ..., 0.62749919, 0.28822977,\n        0.66093094],\n       ...,\n       [0.36153345, 0.81561414, 0.93048041, ..., 0.06658578, 0.55260418,\n        0.77943807],\n       [0.80444391, 0.08752993, 0.5679563 , ..., 0.47687157, 0.78972102,\n        0.91075677],\n       [0.45704276, 0.61360617, 0.54695169, ..., 0.82039312, 0.63140732,\n        0.58258945]])"
     },
     "metadata": {},
     "execution_count": 14
    }
   ],
   "source": [
    "from numpy import random\n",
    "\n",
    "five_random_data = random.random_sample((batch_size,784))\n",
    "print(five_random_data.shape)\n",
    "five_random_data"
   ]
  },
  {
   "cell_type": "markdown",
   "metadata": {},
   "source": [
    "In the `feed_dict` we need to pass the actual variable name which is `x` in this case the value in this is a numpy array"
   ]
  },
  {
   "cell_type": "code",
   "execution_count": 15,
   "metadata": {
    "tags": []
   },
   "outputs": [
    {
     "output_type": "stream",
     "name": "stdout",
     "text": "(10, 10)\n"
    },
    {
     "output_type": "execute_result",
     "data": {
      "text/plain": "array([[-5.1064749e+00, -1.3578578e+01, -1.7977118e+00,  2.4292302e+00,\n         5.1573467e+00,  1.0702006e+01,  9.0970001e+00, -6.3819394e+00,\n         1.1362341e+01,  7.6060610e+00],\n       [-2.4817019e+00, -1.4784269e+01, -5.7943182e+00, -1.3083398e-01,\n        -5.5007563e+00,  1.1232900e+01,  6.0533333e+00, -3.5998707e+00,\n         1.7984055e+01,  1.0177627e+00],\n       [ 3.3135009e+00, -8.3831530e+00, -1.1904846e+01, -1.0509197e+01,\n         3.1762571e+00,  1.0369160e+01,  7.2273750e+00, -8.2998104e+00,\n         5.0038099e-02,  6.8730888e+00],\n       [-2.9786215e+00, -1.1863329e+00, -1.9249504e+00,  2.0456257e+00,\n        -4.3810158e+00,  1.1990746e+01,  6.3559866e+00, -4.6036177e+00,\n         1.3067256e+01,  7.8056283e+00],\n       [-6.5561028e+00, -1.5363416e+01, -4.6912117e+00,  1.3952250e+00,\n         5.6739593e+00,  1.0179494e+01, -5.7452393e-01, -4.1406713e+00,\n         1.6723759e+01,  4.4075341e+00],\n       [-3.6708741e+00, -8.9263000e+00,  9.8795235e-01, -1.0776093e+01,\n         2.4259567e-02,  2.1983549e+01,  3.0294976e+00,  4.3364878e+00,\n         1.3470256e+01,  2.0131881e+00],\n       [-4.7498131e+00, -1.5063235e+01, -2.1647394e-02, -2.6047966e+00,\n         2.9589379e-01,  4.9130754e+00,  4.7044244e+00, -1.3484292e+01,\n         1.4331856e+01, -4.3209081e+00],\n       [ 4.0135107e+00, -2.0896557e+01, -2.5560288e+00,  1.5370237e+00,\n         5.8741379e+00,  1.0203938e+01,  4.2583647e+00, -4.8256197e+00,\n         1.2435681e+01, -4.0911322e+00],\n       [-5.3947411e+00, -1.4048939e+01,  8.3715019e+00, -5.4578214e+00,\n         4.5552378e+00,  1.3038885e+01,  5.5903525e+00, -1.4111233e+01,\n         1.2914726e+01, -9.0208268e-01],\n       [-4.5035887e+00, -1.4949743e+01, -1.4389739e+00, -2.8697650e+00,\n         6.8392506e+00,  1.3852751e+01,  1.1502878e+01, -1.1276283e+00,\n         6.6389351e+00, -1.8248076e+00]], dtype=float32)"
     },
     "metadata": {},
     "execution_count": 15
    }
   ],
   "source": [
    "result = session.run(basic_comp, feed_dict={x:five_random_data})\n",
    "print(result.shape)\n",
    "result"
   ]
  },
  {
   "cell_type": "code",
   "execution_count": null,
   "metadata": {},
   "outputs": [],
   "source": []
  }
 ]
}